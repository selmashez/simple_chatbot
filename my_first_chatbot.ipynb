{
 "cells": [
  {
   "cell_type": "code",
   "execution_count": null,
   "id": "ce604fba",
   "metadata": {},
   "outputs": [
    {
     "name": "stdout",
     "output_type": "stream",
     "text": [
      "type here: ride-sourcing چیست؟\n",
      "راید-سورسینگ (ride-sourcing) یک مدل کسب و کار است که به کاربران امکان می‌دهد با استفاده از یک برنامه موبایل، خودروهای شخصی یا تاکسی‌هایی را برای حمل‌ونقل شخصی اجاره کنند. این سرویس‌ها به عنوان یک جایگزین برای تاکسی‌های سنتی شهری معمولاً ارائه می‌شوند و از ویژگی‌های آن‌ها امکان سفارش آنلاین، پرداخت الکترونیکی، مسیریابی بهینه و امکان ارزیابی راننده‌ها توسط مشتریان است. یکی از معروف‌ترین خدمات راید-سورسینگ، اپلیکیشن‌های خودروی شرکت‌های اوبر و لیفت است.\n"
     ]
    }
   ],
   "source": [
    "import requests as req\n",
    "\n",
    "while True:\n",
    "    question=input(\"type here: \")\n",
    "    \n",
    "    out=req.get(\"http://5.161.91.18/chat?text=\"+question)\n",
    "    \n",
    "    print(out.json())\n",
    "    \n",
    "    if question==exit:\n",
    "        break\n",
    "\n",
    "\n",
    "\n",
    "\n"
   ]
  },
  {
   "cell_type": "code",
   "execution_count": null,
   "id": "2e5edb79",
   "metadata": {},
   "outputs": [],
   "source": []
  }
 ],
 "metadata": {
  "kernelspec": {
   "display_name": "Python 3 (ipykernel)",
   "language": "python",
   "name": "python3"
  },
  "language_info": {
   "codemirror_mode": {
    "name": "ipython",
    "version": 3
   },
   "file_extension": ".py",
   "mimetype": "text/x-python",
   "name": "python",
   "nbconvert_exporter": "python",
   "pygments_lexer": "ipython3",
   "version": "3.10.9"
  }
 },
 "nbformat": 4,
 "nbformat_minor": 5
}
